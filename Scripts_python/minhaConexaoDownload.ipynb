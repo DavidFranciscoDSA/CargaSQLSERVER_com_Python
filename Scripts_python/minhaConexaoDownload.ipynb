{
 "cells": [
  {
   "cell_type": "markdown",
   "metadata": {},
   "source": [
    "# Baixar tabelas do SQL Server para trabalhar em Python"
   ]
  },
  {
   "cell_type": "code",
   "execution_count": 2,
   "metadata": {},
   "outputs": [],
   "source": [
    "import dafra as DF\n",
    "import pandas as pd\n",
    "import pyodbc"
   ]
  },
  {
   "cell_type": "markdown",
   "metadata": {},
   "source": [
    "#### Abre a conexão com o SQL Server"
   ]
  },
  {
   "cell_type": "code",
   "execution_count": 43,
   "metadata": {},
   "outputs": [],
   "source": [
    "# Variaveis de conexão\n",
    "driver_ODBC = 'ODBC Driver 17 for SQL Server'\n",
    "nome_servidor = 'DAVIDFRANCISCO\\SQLEXPRESS'\n",
    "nome_BD = 'AulaPython'\n",
    "#tabelaSQL = '[Clientes]'\n",
    "usuario = 'dsds'\n",
    "senha = '1234'\n",
    "\n",
    "# Conexão\n",
    "conexaoDB = pyodbc.connect(f'DRIVER={driver_ODBC};'\n",
    "                           f'SERVER={nome_servidor};'\n",
    "                           f'DATABASE={nome_BD};'\n",
    "                           'Trusted_Connection=yes;')\n",
    "\n",
    "cursor = conexaoDB.cursor()   # criando cursor de comando"
   ]
  },
  {
   "cell_type": "markdown",
   "metadata": {},
   "source": [
    "### Baixa a tabela desejada"
   ]
  },
  {
   "cell_type": "code",
   "execution_count": 44,
   "metadata": {},
   "outputs": [
    {
     "name": "stderr",
     "output_type": "stream",
     "text": [
      "C:\\Users\\david\\AppData\\Local\\Temp\\ipykernel_4532\\3543266480.py:2: UserWarning: pandas only supports SQLAlchemy connectable (engine/connection) or database string URI or sqlite3 DBAPI2 connection. Other DBAPI2 objects are not tested. Please consider using SQLAlchemy.\n",
      "  Categoria = pd.read_sql(Query,conexaoDB)\n"
     ]
    },
    {
     "data": {
      "text/html": [
       "<div>\n",
       "<style scoped>\n",
       "    .dataframe tbody tr th:only-of-type {\n",
       "        vertical-align: middle;\n",
       "    }\n",
       "\n",
       "    .dataframe tbody tr th {\n",
       "        vertical-align: top;\n",
       "    }\n",
       "\n",
       "    .dataframe thead th {\n",
       "        text-align: right;\n",
       "    }\n",
       "</style>\n",
       "<table border=\"1\" class=\"dataframe\">\n",
       "  <thead>\n",
       "    <tr style=\"text-align: right;\">\n",
       "      <th></th>\n",
       "      <th>ID</th>\n",
       "      <th>Categoria</th>\n",
       "    </tr>\n",
       "  </thead>\n",
       "  <tbody>\n",
       "    <tr>\n",
       "      <th>0</th>\n",
       "      <td>0</td>\n",
       "      <td>Moda e Acessórios</td>\n",
       "    </tr>\n",
       "    <tr>\n",
       "      <th>1</th>\n",
       "      <td>1</td>\n",
       "      <td>Cosméticos e Perfumaria</td>\n",
       "    </tr>\n",
       "    <tr>\n",
       "      <th>2</th>\n",
       "      <td>2</td>\n",
       "      <td>Eletrodomésticos</td>\n",
       "    </tr>\n",
       "    <tr>\n",
       "      <th>3</th>\n",
       "      <td>3</td>\n",
       "      <td>Livros</td>\n",
       "    </tr>\n",
       "    <tr>\n",
       "      <th>4</th>\n",
       "      <td>4</td>\n",
       "      <td>Celulares</td>\n",
       "    </tr>\n",
       "    <tr>\n",
       "      <th>5</th>\n",
       "      <td>5</td>\n",
       "      <td>Informática</td>\n",
       "    </tr>\n",
       "    <tr>\n",
       "      <th>6</th>\n",
       "      <td>6</td>\n",
       "      <td>Casa e Decoração</td>\n",
       "    </tr>\n",
       "    <tr>\n",
       "      <th>7</th>\n",
       "      <td>7</td>\n",
       "      <td>Eletrônicos</td>\n",
       "    </tr>\n",
       "    <tr>\n",
       "      <th>8</th>\n",
       "      <td>8</td>\n",
       "      <td>Esporte e Lazer</td>\n",
       "    </tr>\n",
       "    <tr>\n",
       "      <th>9</th>\n",
       "      <td>9</td>\n",
       "      <td>Brinquedos e consoles</td>\n",
       "    </tr>\n",
       "    <tr>\n",
       "      <th>10</th>\n",
       "      <td>10</td>\n",
       "      <td>Limpeza e higienização</td>\n",
       "    </tr>\n",
       "  </tbody>\n",
       "</table>\n",
       "</div>"
      ],
      "text/plain": [
       "    ID                Categoria\n",
       "0    0        Moda e Acessórios\n",
       "1    1  Cosméticos e Perfumaria\n",
       "2    2         Eletrodomésticos\n",
       "3    3                   Livros\n",
       "4    4                Celulares\n",
       "5    5              Informática\n",
       "6    6         Casa e Decoração\n",
       "7    7              Eletrônicos\n",
       "8    8          Esporte e Lazer\n",
       "9    9    Brinquedos e consoles\n",
       "10  10   Limpeza e higienização"
      ]
     },
     "execution_count": 44,
     "metadata": {},
     "output_type": "execute_result"
    }
   ],
   "source": [
    "Query = 'SELECT * FROM Categoria'\n",
    "Categoria = pd.read_sql(Query,conexaoDB)\n",
    "Categoria"
   ]
  },
  {
   "cell_type": "markdown",
   "metadata": {},
   "source": [
    "Baixando varias tabelas "
   ]
  },
  {
   "cell_type": "code",
   "execution_count": 45,
   "metadata": {},
   "outputs": [
    {
     "name": "stderr",
     "output_type": "stream",
     "text": [
      "C:\\Users\\david\\AppData\\Local\\Temp\\ipykernel_4532\\1594362285.py:13: UserWarning: pandas only supports SQLAlchemy connectable (engine/connection) or database string URI or sqlite3 DBAPI2 connection. Other DBAPI2 objects are not tested. Please consider using SQLAlchemy.\n",
      "  tabelas_baixadas[indice] = pd.read_sql(Query, conexaoDB)\n"
     ]
    }
   ],
   "source": [
    "# Cria as tabelas vazias\n",
    "Categoria=pd.DataFrame()\n",
    "Produtos=pd.DataFrame()\n",
    "Items=pd.DataFrame()\n",
    "Ordens=pd.DataFrame()\n",
    "Clientes=pd.DataFrame()\n",
    "#Atribui as tabelas criadas a uma lista - na mesma sequencia de nomes crie uma tabela com o nome igual a do SGBD\n",
    "tabelas_baixadas = [Categoria,Produtos,Items,Ordens,Clientes]\n",
    "tabelas_SGBD = ['Categoria','Produtos','Items','Ordens','Clientes']\n",
    "for indice in range(len(tabelas_SGBD)):\n",
    "    tabela = tabelas_SGBD[indice]\n",
    "    Query = f'SELECT * FROM {tabela}'\n",
    "    tabelas_baixadas[indice] = pd.read_sql(Query, conexaoDB)\n",
    "    #tabelas_baixadas[indice] = pd.DataFrame(tabelas_baixadas[indice])\n",
    "\n",
    "#Atribui cada tabela a um data frame\n",
    "Categoria=tabelas_baixadas[0]\n",
    "Produtos=tabelas_baixadas[1]\n",
    "Items=tabelas_baixadas[2]\n",
    "Ordens=tabelas_baixadas[3]\n",
    "Clientes=tabelas_baixadas[4]\n"
   ]
  },
  {
   "cell_type": "markdown",
   "metadata": {},
   "source": [
    "### Salva a tabela em um diretorio"
   ]
  },
  {
   "cell_type": "code",
   "execution_count": 46,
   "metadata": {},
   "outputs": [],
   "source": [
    "#df = Categoria\n",
    "#pasta_destino = r\"C:\\Users\\david\\Desktop\\ProjetosdeCienciasdeDados\\Dados\\arquivos_excel\\meuconsolidado\\tratados/\"\n",
    "#nome_arquivo = \"Categoria2\"\n",
    "#extensao_arquivo = \".xlsx\"\n",
    "#consolidadoSalvar = df\n",
    "#DF.salvar_consolidado(consolidadoSalvar,pasta_destino,nome_arquivo,extensao_arquivo)"
   ]
  },
  {
   "cell_type": "markdown",
   "metadata": {},
   "source": [
    "### Salva todas as tabelas em formato excel"
   ]
  },
  {
   "cell_type": "code",
   "execution_count": 47,
   "metadata": {},
   "outputs": [],
   "source": [
    "for i in range(len(tabelas_SGBD)):\n",
    "    df = tabelas_baixadas[i]\n",
    "    pasta_destino = r\"C:\\Users\\david\\Desktop\\ProjetosdeCienciasdeDados\\Dados\\arquivos_excel\\meuconsolidado\\tratados/\"\n",
    "    nome_arquivo = tabelas_SGBD[i]\n",
    "    extensao_arquivo = \".xlsx\"\n",
    "    consolidadoSalvar = df\n",
    "    DF.salvar_consolidado(consolidadoSalvar,pasta_destino,nome_arquivo,extensao_arquivo)"
   ]
  },
  {
   "cell_type": "markdown",
   "metadata": {},
   "source": [
    "## Fecha a conexão"
   ]
  },
  {
   "cell_type": "code",
   "execution_count": 48,
   "metadata": {},
   "outputs": [],
   "source": [
    "cursor.close()    #Fechar Cursor\n",
    "conexaoDB.close() #Fechar Conexao"
   ]
  }
 ],
 "metadata": {
  "kernelspec": {
   "display_name": ".venv",
   "language": "python",
   "name": "python3"
  },
  "language_info": {
   "codemirror_mode": {
    "name": "ipython",
    "version": 3
   },
   "file_extension": ".py",
   "mimetype": "text/x-python",
   "name": "python",
   "nbconvert_exporter": "python",
   "pygments_lexer": "ipython3",
   "version": "3.9.6"
  }
 },
 "nbformat": 4,
 "nbformat_minor": 2
}
