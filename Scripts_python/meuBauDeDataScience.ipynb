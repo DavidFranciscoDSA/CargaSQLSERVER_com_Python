{
 "cells": [
  {
   "cell_type": "code",
   "execution_count": 1,
   "metadata": {},
   "outputs": [],
   "source": [
    "# Meu modulo com minhas funções - para esse arquivo funcionar é preciso trazer o modulo dafra\n",
    "import dafra as DF\n",
    "import pandas as pd"
   ]
  },
  {
   "cell_type": "markdown",
   "metadata": {},
   "source": [
    "# Importando diferentes bases de dados"
   ]
  },
  {
   "cell_type": "code",
   "execution_count": 98,
   "metadata": {},
   "outputs": [
    {
     "data": {
      "text/html": [
       "<div>\n",
       "<style scoped>\n",
       "    .dataframe tbody tr th:only-of-type {\n",
       "        vertical-align: middle;\n",
       "    }\n",
       "\n",
       "    .dataframe tbody tr th {\n",
       "        vertical-align: top;\n",
       "    }\n",
       "\n",
       "    .dataframe thead th {\n",
       "        text-align: right;\n",
       "    }\n",
       "</style>\n",
       "<table border=\"1\" class=\"dataframe\">\n",
       "  <thead>\n",
       "    <tr style=\"text-align: right;\">\n",
       "      <th></th>\n",
       "      <th>id</th>\n",
       "      <th>created_at</th>\n",
       "      <th>first_name</th>\n",
       "      <th>last_name</th>\n",
       "      <th>email</th>\n",
       "      <th>cell_phone</th>\n",
       "      <th>country</th>\n",
       "      <th>state</th>\n",
       "      <th>street</th>\n",
       "      <th>number</th>\n",
       "      <th>additionals</th>\n",
       "    </tr>\n",
       "  </thead>\n",
       "  <tbody>\n",
       "    <tr>\n",
       "      <th>0</th>\n",
       "      <td>0</td>\n",
       "      <td>2017-11-01 14:45:41</td>\n",
       "      <td>Marta</td>\n",
       "      <td>Jesus</td>\n",
       "      <td>NaN</td>\n",
       "      <td>9 9102-7834</td>\n",
       "      <td>Brasil</td>\n",
       "      <td>Acre</td>\n",
       "      <td>NaN</td>\n",
       "      <td>NaN</td>\n",
       "      <td>Conjunto 16</td>\n",
       "    </tr>\n",
       "    <tr>\n",
       "      <th>1</th>\n",
       "      <td>1</td>\n",
       "      <td>2017-10-16 00:50:39</td>\n",
       "      <td>Luana</td>\n",
       "      <td>Almeida</td>\n",
       "      <td>NaN</td>\n",
       "      <td>9 7328-8718</td>\n",
       "      <td>Brasil</td>\n",
       "      <td>Rio Grande do Sul</td>\n",
       "      <td>Avenida 56 do Estado Rio Grande do Sul</td>\n",
       "      <td>989.0</td>\n",
       "      <td>Conjunto 17</td>\n",
       "    </tr>\n",
       "    <tr>\n",
       "      <th>2</th>\n",
       "      <td>2</td>\n",
       "      <td>2018-06-16 17:51:29</td>\n",
       "      <td>Frida</td>\n",
       "      <td>Mendes</td>\n",
       "      <td>frida@meu_email.com</td>\n",
       "      <td>9 5906-7552</td>\n",
       "      <td>Brasil</td>\n",
       "      <td>São Paulo</td>\n",
       "      <td>Avenida 59 do Estado São Paulo</td>\n",
       "      <td>534.0</td>\n",
       "      <td>NaN</td>\n",
       "    </tr>\n",
       "    <tr>\n",
       "      <th>3</th>\n",
       "      <td>3</td>\n",
       "      <td>2018-01-17 03:02:58</td>\n",
       "      <td>Daniela</td>\n",
       "      <td>Avelino</td>\n",
       "      <td>daniela@exemplo.com</td>\n",
       "      <td>9 4642-9486</td>\n",
       "      <td>Brasil</td>\n",
       "      <td>Mato Grosso</td>\n",
       "      <td>NaN</td>\n",
       "      <td>NaN</td>\n",
       "      <td>NaN</td>\n",
       "    </tr>\n",
       "    <tr>\n",
       "      <th>4</th>\n",
       "      <td>4</td>\n",
       "      <td>2018-08-06 07:24:16</td>\n",
       "      <td>Romário</td>\n",
       "      <td>Teixeira</td>\n",
       "      <td>NaN</td>\n",
       "      <td>9 3093-6522</td>\n",
       "      <td>Brasil</td>\n",
       "      <td>Bahia</td>\n",
       "      <td>Praça 56 do Estado Bahia</td>\n",
       "      <td>191.0</td>\n",
       "      <td>Apto 12</td>\n",
       "    </tr>\n",
       "    <tr>\n",
       "      <th>...</th>\n",
       "      <td>...</td>\n",
       "      <td>...</td>\n",
       "      <td>...</td>\n",
       "      <td>...</td>\n",
       "      <td>...</td>\n",
       "      <td>...</td>\n",
       "      <td>...</td>\n",
       "      <td>...</td>\n",
       "      <td>...</td>\n",
       "      <td>...</td>\n",
       "      <td>...</td>\n",
       "    </tr>\n",
       "    <tr>\n",
       "      <th>95</th>\n",
       "      <td>95</td>\n",
       "      <td>2018-10-01 11:35:59</td>\n",
       "      <td>Mariana</td>\n",
       "      <td>Rosa</td>\n",
       "      <td>mariana@usuario.com</td>\n",
       "      <td>9 3139-2145</td>\n",
       "      <td>Brasil</td>\n",
       "      <td>NaN</td>\n",
       "      <td>NaN</td>\n",
       "      <td>NaN</td>\n",
       "      <td>NaN</td>\n",
       "    </tr>\n",
       "    <tr>\n",
       "      <th>96</th>\n",
       "      <td>96</td>\n",
       "      <td>2018-01-23 19:14:21</td>\n",
       "      <td>Paulo</td>\n",
       "      <td>Câmara</td>\n",
       "      <td>paulo@usuario.com</td>\n",
       "      <td>9 4785-1135</td>\n",
       "      <td>Brasil</td>\n",
       "      <td>Sergipe</td>\n",
       "      <td>Praça 73 do Estado Sergipe</td>\n",
       "      <td>219.0</td>\n",
       "      <td>Apto 6</td>\n",
       "    </tr>\n",
       "    <tr>\n",
       "      <th>97</th>\n",
       "      <td>97</td>\n",
       "      <td>2018-07-04 18:45:41</td>\n",
       "      <td>Marta</td>\n",
       "      <td>Góes</td>\n",
       "      <td>marta@teste.com</td>\n",
       "      <td>9 4102-4352</td>\n",
       "      <td>Brasil</td>\n",
       "      <td>Paraná</td>\n",
       "      <td>Rua 61 do Estado Paraná</td>\n",
       "      <td>402.0</td>\n",
       "      <td>Apto 24</td>\n",
       "    </tr>\n",
       "    <tr>\n",
       "      <th>98</th>\n",
       "      <td>98</td>\n",
       "      <td>2018-01-24 16:21:06</td>\n",
       "      <td>Cibele</td>\n",
       "      <td>Costa</td>\n",
       "      <td>cibele@meu_email.com</td>\n",
       "      <td>9 4211-6968</td>\n",
       "      <td>Brasil</td>\n",
       "      <td>Mato Grosso</td>\n",
       "      <td>Praça 75 do Estado Mato Grosso</td>\n",
       "      <td>24.0</td>\n",
       "      <td>NaN</td>\n",
       "    </tr>\n",
       "    <tr>\n",
       "      <th>99</th>\n",
       "      <td>99</td>\n",
       "      <td>2018-07-24 08:26:27</td>\n",
       "      <td>Jéssica</td>\n",
       "      <td>Jesus</td>\n",
       "      <td>jéssica@usuario.com</td>\n",
       "      <td>9 6100-1466</td>\n",
       "      <td>Brasil</td>\n",
       "      <td>Paraná</td>\n",
       "      <td>Avenida 19 do Estado Paraná</td>\n",
       "      <td>738.0</td>\n",
       "      <td>Conjunto 22</td>\n",
       "    </tr>\n",
       "  </tbody>\n",
       "</table>\n",
       "<p>100 rows × 11 columns</p>\n",
       "</div>"
      ],
      "text/plain": [
       "    id           created_at first_name last_name                 email  \\\n",
       "0    0  2017-11-01 14:45:41      Marta     Jesus                   NaN   \n",
       "1    1  2017-10-16 00:50:39      Luana   Almeida                   NaN   \n",
       "2    2  2018-06-16 17:51:29      Frida    Mendes   frida@meu_email.com   \n",
       "3    3  2018-01-17 03:02:58    Daniela   Avelino   daniela@exemplo.com   \n",
       "4    4  2018-08-06 07:24:16    Romário  Teixeira                   NaN   \n",
       "..  ..                  ...        ...       ...                   ...   \n",
       "95  95  2018-10-01 11:35:59    Mariana      Rosa   mariana@usuario.com   \n",
       "96  96  2018-01-23 19:14:21      Paulo    Câmara     paulo@usuario.com   \n",
       "97  97  2018-07-04 18:45:41      Marta      Góes       marta@teste.com   \n",
       "98  98  2018-01-24 16:21:06     Cibele     Costa  cibele@meu_email.com   \n",
       "99  99  2018-07-24 08:26:27    Jéssica     Jesus   jéssica@usuario.com   \n",
       "\n",
       "     cell_phone country              state  \\\n",
       "0   9 9102-7834  Brasil               Acre   \n",
       "1   9 7328-8718  Brasil  Rio Grande do Sul   \n",
       "2   9 5906-7552  Brasil          São Paulo   \n",
       "3   9 4642-9486  Brasil        Mato Grosso   \n",
       "4   9 3093-6522  Brasil              Bahia   \n",
       "..          ...     ...                ...   \n",
       "95  9 3139-2145  Brasil                NaN   \n",
       "96  9 4785-1135  Brasil            Sergipe   \n",
       "97  9 4102-4352  Brasil             Paraná   \n",
       "98  9 4211-6968  Brasil        Mato Grosso   \n",
       "99  9 6100-1466  Brasil             Paraná   \n",
       "\n",
       "                                    street  number  additionals  \n",
       "0                                      NaN     NaN  Conjunto 16  \n",
       "1   Avenida 56 do Estado Rio Grande do Sul   989.0  Conjunto 17  \n",
       "2           Avenida 59 do Estado São Paulo   534.0          NaN  \n",
       "3                                      NaN     NaN          NaN  \n",
       "4                 Praça 56 do Estado Bahia   191.0      Apto 12  \n",
       "..                                     ...     ...          ...  \n",
       "95                                     NaN     NaN          NaN  \n",
       "96              Praça 73 do Estado Sergipe   219.0       Apto 6  \n",
       "97                 Rua 61 do Estado Paraná   402.0      Apto 24  \n",
       "98          Praça 75 do Estado Mato Grosso    24.0          NaN  \n",
       "99             Avenida 19 do Estado Paraná   738.0  Conjunto 22  \n",
       "\n",
       "[100 rows x 11 columns]"
      ]
     },
     "execution_count": 98,
     "metadata": {},
     "output_type": "execute_result"
    }
   ],
   "source": [
    "\n",
    "# EXCEL\n",
    "caminho = r\"C:\\Users\\david\\Desktop\\DataScienceAnalytics\\Dados\\Produto.xlsx\"\n",
    "df = pd.read_excel(caminho)\n",
    "df.head()\n",
    "\n",
    "# CSV\n",
    "path_file = r\"C:\\Users\\david\\Desktop\\ProjetosdeCienciasdeDados\\Dados\\arquivos_csv\\Clientes.csv\"\n",
    "df = pd.read_csv(path_file,delimiter=',')\n",
    "df"
   ]
  },
  {
   "cell_type": "markdown",
   "metadata": {},
   "source": [
    "# Funçoes para filtrar valores de uma determinada variavel"
   ]
  },
  {
   "cell_type": "code",
   "execution_count": 99,
   "metadata": {},
   "outputs": [
    {
     "data": {
      "text/html": [
       "<div>\n",
       "<style scoped>\n",
       "    .dataframe tbody tr th:only-of-type {\n",
       "        vertical-align: middle;\n",
       "    }\n",
       "\n",
       "    .dataframe tbody tr th {\n",
       "        vertical-align: top;\n",
       "    }\n",
       "\n",
       "    .dataframe thead th {\n",
       "        text-align: right;\n",
       "    }\n",
       "</style>\n",
       "<table border=\"1\" class=\"dataframe\">\n",
       "  <thead>\n",
       "    <tr style=\"text-align: right;\">\n",
       "      <th></th>\n",
       "      <th>id</th>\n",
       "      <th>created_at</th>\n",
       "      <th>first_name</th>\n",
       "      <th>last_name</th>\n",
       "      <th>email</th>\n",
       "      <th>cell_phone</th>\n",
       "      <th>country</th>\n",
       "      <th>state</th>\n",
       "      <th>street</th>\n",
       "      <th>number</th>\n",
       "      <th>additionals</th>\n",
       "    </tr>\n",
       "  </thead>\n",
       "  <tbody>\n",
       "    <tr>\n",
       "      <th>32</th>\n",
       "      <td>32</td>\n",
       "      <td>2018-07-22 11:59:27</td>\n",
       "      <td>Ana</td>\n",
       "      <td>Campos</td>\n",
       "      <td>ana@teste.com</td>\n",
       "      <td>9 1932-9841</td>\n",
       "      <td>Brasil</td>\n",
       "      <td>Bahia</td>\n",
       "      <td>Avenida 52 do Estado Bahia</td>\n",
       "      <td>402.0</td>\n",
       "      <td>NaN</td>\n",
       "    </tr>\n",
       "    <tr>\n",
       "      <th>77</th>\n",
       "      <td>77</td>\n",
       "      <td>2018-11-30 10:29:55</td>\n",
       "      <td>Ana</td>\n",
       "      <td>Monteiro</td>\n",
       "      <td>ana@teste.com</td>\n",
       "      <td>9 3871-4132</td>\n",
       "      <td>Brasil</td>\n",
       "      <td>Bahia</td>\n",
       "      <td>Praça 86 do Estado Bahia</td>\n",
       "      <td>604.0</td>\n",
       "      <td>Apto 30</td>\n",
       "    </tr>\n",
       "  </tbody>\n",
       "</table>\n",
       "</div>"
      ],
      "text/plain": [
       "    id           created_at first_name last_name          email   cell_phone  \\\n",
       "32  32  2018-07-22 11:59:27        Ana    Campos  ana@teste.com  9 1932-9841   \n",
       "77  77  2018-11-30 10:29:55        Ana  Monteiro  ana@teste.com  9 3871-4132   \n",
       "\n",
       "   country  state                      street  number additionals  \n",
       "32  Brasil  Bahia  Avenida 52 do Estado Bahia   402.0         NaN  \n",
       "77  Brasil  Bahia    Praça 86 do Estado Bahia   604.0     Apto 30  "
      ]
     },
     "execution_count": 99,
     "metadata": {},
     "output_type": "execute_result"
    }
   ],
   "source": [
    "# base, nome_coluna, valor\n",
    "DF.filtro_igual_a(df,'first_name','Ana')"
   ]
  },
  {
   "cell_type": "code",
   "execution_count": null,
   "metadata": {},
   "outputs": [],
   "source": [
    "#usando minha função do arquivo dafra - com argumentos direto na função\n",
    "Acre = DF.filtro_igual_a(df,'state','Acre')\n",
    "Acre"
   ]
  },
  {
   "cell_type": "code",
   "execution_count": null,
   "metadata": {},
   "outputs": [],
   "source": [
    "print('Maior que?')\n",
    "coluna = input('Digite respectivamente da coluna e valor numerico do filtro: ')\n",
    "valor = int(input())\n",
    "DF.filtro_maior_que(df,coluna,valor)"
   ]
  },
  {
   "cell_type": "code",
   "execution_count": null,
   "metadata": {},
   "outputs": [],
   "source": [
    "print('Menor igual a?')\n",
    "coluna = input('Digite respectivamente da coluna e valor numerico do filtro: ')\n",
    "valor = int(input())\n",
    "DF.filtro_menor_igual_a(df,coluna,valor)"
   ]
  },
  {
   "cell_type": "code",
   "execution_count": null,
   "metadata": {},
   "outputs": [],
   "source": [
    "valor1 = 50\n",
    "valor2 = 189\n",
    "coluna = 'Price'\n",
    "DF.filtro_entre(df,coluna,valor1,valor2)"
   ]
  },
  {
   "cell_type": "code",
   "execution_count": null,
   "metadata": {},
   "outputs": [],
   "source": [
    "# aqui faz por meio de input o mesmo que o notebook abaixo\n",
    "lista = DF.pergunta_m()\n",
    "DF.varios_valores(df,lista[1],lista[0])"
   ]
  },
  {
   "cell_type": "code",
   "execution_count": null,
   "metadata": {},
   "outputs": [],
   "source": [
    "#usando minha função - atribui filtro da coluna state buscando varios registros\n",
    "estados2 = ['Acre','Santa Catarina', 'São Paulo','Minas Gerais']\n",
    "DF.varios_valores(df,'state',estados2)"
   ]
  },
  {
   "cell_type": "markdown",
   "metadata": {},
   "source": [
    "# Tratamento de nulos"
   ]
  },
  {
   "cell_type": "code",
   "execution_count": null,
   "metadata": {},
   "outputs": [],
   "source": [
    "#usando minha função - verifica todas as colunas que possui nan\n",
    "DF.show_null(df)"
   ]
  },
  {
   "cell_type": "markdown",
   "metadata": {},
   "source": [
    "#### Os valores podem ser tratados com média, mediana, moda etc, basta atribuir esses valores na lista_prenchimento"
   ]
  },
  {
   "cell_type": "code",
   "execution_count": null,
   "metadata": {},
   "outputs": [],
   "source": [
    "lista_prenchimento = ['Não cadastrado','Email não cadastrado','Sem informações',0,'Estado não cadastrado']\n",
    "var_NaN = DF.show_null(df)\n",
    "df = DF.tratar_colunas_NAN(df,var_NaN,lista_prenchimento)"
   ]
  },
  {
   "cell_type": "markdown",
   "metadata": {},
   "source": [
    "# Replaces de valores "
   ]
  },
  {
   "cell_type": "code",
   "execution_count": null,
   "metadata": {},
   "outputs": [],
   "source": [
    "# Substitui o valor da coluna\n",
    "coluna = 'state'\n",
    "atual = 'SP'\n",
    "novo = 'São Paulo'\n",
    "DF.substituir_valores(df,coluna,atual,novo)"
   ]
  },
  {
   "cell_type": "code",
   "execution_count": null,
   "metadata": {},
   "outputs": [],
   "source": [
    "# Substitui varios valores de uma só vez\n",
    "mapeamento = {'Maranhão': 'Maranhao', 'Piauí': 'Piaui', 'Goiás': 'Goias','São Paulo':'SPsudeste'}\n",
    "coluna = 'state'\n",
    "DF.substituir_varios(df,coluna,mapeamento)"
   ]
  },
  {
   "cell_type": "markdown",
   "metadata": {},
   "source": [
    "# Consolidando Arquivos "
   ]
  },
  {
   "cell_type": "code",
   "execution_count": null,
   "metadata": {},
   "outputs": [],
   "source": [
    "# pasta que estão os arquivos que deseja consolidar DataLake\n",
    "pasta = r\"C:\\Users\\david\\Desktop\\ProjetosdeCienciasdeDados\\Dados\\arquivos_excel\\Consolidar/\""
   ]
  },
  {
   "cell_type": "code",
   "execution_count": null,
   "metadata": {},
   "outputs": [],
   "source": [
    "# Diretorio do Data Lake, Extensão do arquivo - varre todos os arquivos e consolida \n",
    "tipo_arquivo = '.xlsx'\n",
    "consolidado = DF.consolidar_arquivos(pasta,tipo_arquivo)"
   ]
  },
  {
   "cell_type": "markdown",
   "metadata": {},
   "source": [
    "#### Salvando os arquivos que foi consolidados acima"
   ]
  },
  {
   "cell_type": "code",
   "execution_count": null,
   "metadata": {},
   "outputs": [],
   "source": [
    "# Pasta destino é o caminho que deseja salvar o arquivo consolidado, \n",
    "pasta_destino = r\"C:\\Users\\david\\Desktop\\ProjetosdeCienciasdeDados\\Dados\\arquivos_excel\\meuconsolidado/\"\n",
    "nome_arquivo = \"vendasTotais\"\n",
    "extensao_arquivo = \".txt\"\n",
    "consolidadoSalvar = consolidado\n",
    "DF.salvar_consolidado(consolidadoSalvar,pasta_destino,nome_arquivo,extensao_arquivo)"
   ]
  },
  {
   "cell_type": "markdown",
   "metadata": {},
   "source": [
    "#### Sobreescrevendo um arquivo existente ou criando caso não exista"
   ]
  },
  {
   "cell_type": "code",
   "execution_count": null,
   "metadata": {},
   "outputs": [],
   "source": [
    "pasta_destino = r\"C:\\Users\\david\\Desktop\\ProjetosdeCienciasdeDados\\Dados\\arquivos_excel\\Consolidar\\Arquivos consolidados/\"\n",
    "nome_arquivo = 'Vendasleticia.xlsx'\n",
    "DF.sobreescrever_arquivoExcel(pasta_destino,nome_arquivo,consolidado)"
   ]
  },
  {
   "cell_type": "markdown",
   "metadata": {},
   "source": [
    "# Conversão de dados"
   ]
  },
  {
   "cell_type": "code",
   "execution_count": null,
   "metadata": {},
   "outputs": [],
   "source": [
    "# Importando base\n",
    "diretorio = r'C:\\Users\\david\\Desktop\\ProjetosdeCienciasdeDados\\Dados\\arquivos_csv\\Clientes.csv'\n",
    "df = pd.read_csv(diretorio, delimiter=',')"
   ]
  },
  {
   "cell_type": "code",
   "execution_count": null,
   "metadata": {},
   "outputs": [],
   "source": [
    "#tipos de dados do DataFrame\n",
    "DF.tipo_dados(df)"
   ]
  },
  {
   "cell_type": "code",
   "execution_count": null,
   "metadata": {},
   "outputs": [],
   "source": [
    "# converte para os tres tipos (float, str, int) pata datetime preencha o tipo como 1\n",
    "tipo = 1\n",
    "coluna = 'created_at'\n",
    "DF.converter_tipo(df,coluna,tipo)"
   ]
  },
  {
   "cell_type": "markdown",
   "metadata": {},
   "source": [
    "# Filtro de dados do tipo data"
   ]
  },
  {
   "cell_type": "code",
   "execution_count": null,
   "metadata": {},
   "outputs": [],
   "source": [
    "# Filtra dia, mês e ano coluna, ano1 e ano2, mes1 e mes2 de [1 a 12]  dia1 e dia2 [1 a 31]- \n",
    "# caso queira o mesmo ano é só repetir os valores, o mesmo aplica para mes e dia\n",
    "coluna = 'created_at'\n",
    "ano1 = 2017\n",
    "ano2 = 2018\n",
    "mes1 = 12\n",
    "mes2 = 12\n",
    "dia1 = 1\n",
    "dia2 = 31\n",
    "DF.filtro_ano_mes_dia(df, coluna, ano1, ano2, mes1, mes2,dia1,dia2)"
   ]
  },
  {
   "cell_type": "code",
   "execution_count": null,
   "metadata": {},
   "outputs": [],
   "source": [
    "# Filtra mês e ano coluna, ano1 e ano2, mes1 e mes2 de [1 a 12] - caso queira o mesmo ano é só repetir os valores, o mesmo aplica para mes\n",
    "coluna = 'created_at'\n",
    "ano1 = 2017\n",
    "ano2 = 2018\n",
    "mes1 = 5\n",
    "mes2 = 5\n",
    "DF.filtro_ano_mes(df, coluna, ano1, ano2, mes1, mes2)"
   ]
  },
  {
   "cell_type": "code",
   "execution_count": null,
   "metadata": {},
   "outputs": [],
   "source": [
    "# Filtra por ano, caso queira um unico ano basta colocar o mesmo anos nas variaveis ano1 e ano2\n",
    "coluna = 'created_at'\n",
    "ano1 = 2017\n",
    "ano2 = 2017\n",
    "DF.filtra_entre_anos(df,coluna,ano1,ano2)"
   ]
  },
  {
   "cell_type": "markdown",
   "metadata": {},
   "source": [
    "# Convertendo para padrao Brasileiro"
   ]
  },
  {
   "cell_type": "code",
   "execution_count": null,
   "metadata": {},
   "outputs": [],
   "source": [
    "coluna = 'created_at'\n",
    "DF.mudar_padrao_brasileiro_semHoras(df,coluna)"
   ]
  },
  {
   "cell_type": "code",
   "execution_count": null,
   "metadata": {},
   "outputs": [],
   "source": [
    "coluna = 'created_at'\n",
    "DF.mudar_padrao_brasileiro_comHoras(df,coluna)"
   ]
  },
  {
   "cell_type": "markdown",
   "metadata": {},
   "source": [
    "# Adicionando uma nova coluna"
   ]
  },
  {
   "cell_type": "code",
   "execution_count": null,
   "metadata": {},
   "outputs": [],
   "source": [
    "# Cria uma nova coluna no DATAFRAME \n",
    "nome_coluna = 'ano'\n",
    "valor_coluna = df['created_at'].dt.year\n",
    "DF.nova_coluna(df,nome_coluna,valor_coluna)"
   ]
  },
  {
   "cell_type": "code",
   "execution_count": null,
   "metadata": {},
   "outputs": [],
   "source": [
    "# Adicionar coluna com o nome do mês em português - parametros(base,nova_coluna, lista dos meses, coluna referencia)\n",
    "lista = ['janeiro', 'fevereiro', 'março', 'abril', 'maio', 'junho',\n",
    "         'julho', 'agosto', 'setembro', 'outubro', 'novembro', 'dezembro']\n",
    "nova_coluna = 'Nome mes'\n",
    "coluna_ref = 'created_at'\n",
    "DF.coluna_meses_extenso(df,nova_coluna,lista,coluna_ref)"
   ]
  },
  {
   "cell_type": "code",
   "execution_count": null,
   "metadata": {},
   "outputs": [],
   "source": [
    "def geral_datetime(df,coluna_ref):\n",
    "    df[coluna_ref] = pd.to_datetime(df[coluna_ref])\n",
    "    lista = ['janeiro', 'fevereiro', 'março', 'abril', 'maio', 'junho',\n",
    "         'julho', 'agosto', 'setembro', 'outubro', 'novembro', 'dezembro']\n",
    "    df['dia'] = df[coluna_ref].dt.day\n",
    "    df['mes'] = df[coluna_ref].dt.month\n",
    "    df['ano'] = df[coluna_ref].dt.year\n",
    "    df['hora'] = df[coluna_ref].dt.hour\n",
    "    df['minuto'] = df[coluna_ref].dt.minute\n",
    "    df['segundo'] = df[coluna_ref].dt.second\n",
    "    df['mes extenso'] = df[coluna_ref].dt.month.map(lambda x: lista[x-1])\n",
    "    return df"
   ]
  },
  {
   "cell_type": "code",
   "execution_count": null,
   "metadata": {},
   "outputs": [],
   "source": [
    "# formata inteiramente o campo date time, parametros base e coluna refente a data\n",
    "coluna_ref = 'created_at'\n",
    "geral_datetime(df,coluna_ref)"
   ]
  },
  {
   "cell_type": "code",
   "execution_count": null,
   "metadata": {},
   "outputs": [],
   "source": [
    "#Parametros base, coluna referencia\n",
    "coluna_ref = 'created_at'\n",
    "DF.Adiciona_hora_minuto(df,coluna_ref)"
   ]
  },
  {
   "cell_type": "markdown",
   "metadata": {},
   "source": [
    "# Limpeza de bases despadronizada"
   ]
  },
  {
   "cell_type": "code",
   "execution_count": null,
   "metadata": {},
   "outputs": [],
   "source": [
    "# Importando base\n",
    "diretorio = r\"C:\\Users\\david\\Desktop\\ProjetosdeCienciasdeDados\\Dados\\arquivos_excel\\Caquinha.xlsx\"\n",
    "df = pd.read_excel(diretorio)\n",
    "df.head(3)"
   ]
  },
  {
   "cell_type": "markdown",
   "metadata": {},
   "source": [
    "Seleção por aba e coluna"
   ]
  },
  {
   "cell_type": "code",
   "execution_count": null,
   "metadata": {},
   "outputs": [],
   "source": [
    "#Buscando por indice das colunas - Essa função é usada para capturar colunas especificas de uma Aba Excel\n",
    "diretorio = r\"C:\\Users\\david\\Desktop\\ProjetosdeCienciasdeDados\\Dados\\arquivos_excel\\Caquinha.xlsx\"\n",
    "aba = 'Planilha3'\n",
    "colSelecionadas = [0,1,5,6]\n",
    "DF.selecao_coluna(diretorio,aba,colSelecionadas)"
   ]
  },
  {
   "cell_type": "code",
   "execution_count": null,
   "metadata": {},
   "outputs": [],
   "source": [
    "#Buscando por nome de colunas - Essa função é usada para capturar colunas especificas de uma Aba Excel - só foi mudado o parametro\n",
    "diretorio = r\"C:\\Users\\david\\Desktop\\ProjetosdeCienciasdeDados\\Dados\\arquivos_excel\\Caquinha.xlsx\"\n",
    "aba = 'Planilha3'\n",
    "colSelecionadas = 'A:B'\n",
    "Produto = DF.selecao_coluna(diretorio,aba,colSelecionadas)"
   ]
  },
  {
   "cell_type": "code",
   "execution_count": null,
   "metadata": {},
   "outputs": [],
   "source": [
    "#Buscando por nome de colunas - Essa função é usada para capturar colunas especificas de uma Aba Excel - só foi mudado o parametro\n",
    "diretorio = r\"C:\\Users\\david\\Desktop\\ProjetosdeCienciasdeDados\\Dados\\arquivos_excel\\Caquinha.xlsx\"\n",
    "aba = 'Planilha3'\n",
    "colSelecionadas = 'F:G'\n",
    "loja = DF.selecao_coluna(diretorio,aba,colSelecionadas)"
   ]
  },
  {
   "cell_type": "code",
   "execution_count": null,
   "metadata": {},
   "outputs": [],
   "source": [
    "#Buscando por nome de colunas - Essa função é usada para capturar colunas especificas de uma Aba Excel - só foi mudado o parametro\n",
    "diretorio = r\"C:\\Users\\david\\Desktop\\ProjetosdeCienciasdeDados\\Dados\\arquivos_excel\\Caquinha.xlsx\"\n",
    "aba = 'Planilha1'\n",
    "colSelecionadas = 'A:B'\n",
    "vendedor = DF.selecao_coluna(diretorio,aba,colSelecionadas)"
   ]
  },
  {
   "cell_type": "markdown",
   "metadata": {},
   "source": [
    "Seleção por aba, colunas e pulando ou informando linhas desejadas"
   ]
  },
  {
   "cell_type": "code",
   "execution_count": null,
   "metadata": {},
   "outputs": [],
   "source": [
    "# Pula linhas e seleciona colunas de uma aba excel\n",
    "diretorio = r\"C:\\Users\\david\\Desktop\\ProjetosdeCienciasdeDados\\Dados\\arquivos_excel\\Caquinha.xlsx\"\n",
    "aba = 'Planilha4'\n",
    "colSelecionadas = 'G:H'\n",
    "nlinhas = 7\n",
    "DF.pular_linhas_selColunas(diretorio,aba,nlinhas,colSelecionadas)"
   ]
  },
  {
   "cell_type": "code",
   "execution_count": null,
   "metadata": {},
   "outputs": [],
   "source": [
    "# Seleciona as colunas de uma determinada aba informando que quer da primeira até a linha 12 excel - 11 porque o python inicia com indice zero\n",
    "diretorio = r\"C:\\Users\\david\\Desktop\\ProjetosdeCienciasdeDados\\Dados\\arquivos_excel\\Caquinha.xlsx\"\n",
    "aba = 'Planilha5'\n",
    "colSelecionadas = [0,1]\n",
    "nlinhas = 11\n",
    "vendedor = DF.seleciona_linhas(diretorio,aba,nlinhas,colSelecionadas)\n",
    "vendedor"
   ]
  },
  {
   "cell_type": "code",
   "execution_count": null,
   "metadata": {},
   "outputs": [],
   "source": [
    "# Pula as linhas até a 13º linha\n",
    "diretorio = r\"C:\\Users\\david\\Desktop\\ProjetosdeCienciasdeDados\\Dados\\arquivos_excel\\Caquinha.xlsx\"\n",
    "aba = 'Planilha5'\n",
    "nlinhas = 13\n",
    "loja = DF.pular_linhas(diretorio,aba,nlinhas)"
   ]
  },
  {
   "cell_type": "code",
   "execution_count": null,
   "metadata": {},
   "outputs": [],
   "source": [
    "# Importa uma planilha pela aba - essa é interessante para entender a anormalidade da aba é o dado bruto\n",
    "diretorio = r\"C:\\Users\\david\\Desktop\\ProjetosdeCienciasdeDados\\Dados\\arquivos_excel\\Caquinha.xlsx\"\n",
    "aba = 'Planilha5'\n",
    "DF.importacao_excel_por_aba(diretorio,aba)"
   ]
  },
  {
   "cell_type": "code",
   "execution_count": null,
   "metadata": {},
   "outputs": [],
   "source": [
    "# Pula as 3 primeiras linhas\n",
    "diretorio = r\"C:\\Users\\david\\Desktop\\ProjetosdeCienciasdeDados\\Dados\\arquivos_excel\\Caquinha.xlsx\"\n",
    "aba = 'Planilha2'\n",
    "nlinhas = 3\n",
    "DF.pular_linhas(diretorio,aba,nlinhas)"
   ]
  },
  {
   "cell_type": "markdown",
   "metadata": {},
   "source": [
    "# Seleção de colunas específicas\n"
   ]
  },
  {
   "cell_type": "code",
   "execution_count": null,
   "metadata": {},
   "outputs": [],
   "source": [
    "df = pd.read_csv(r\"C:\\Users\\david\\Desktop\\ProjetosdeCienciasdeDados\\Dados\\arquivos_csv\\Clientes.csv\",delimiter=',')\n",
    "df.head()"
   ]
  },
  {
   "cell_type": "markdown",
   "metadata": {},
   "source": [
    "O gestor só quer o contato de cada cliente"
   ]
  },
  {
   "cell_type": "code",
   "execution_count": null,
   "metadata": {},
   "outputs": [],
   "source": [
    "# Cria um df com as colunas da lista -  \n",
    "lista_colunas = ['id','first_name','last_name','email','cell_phone']\n",
    "contatos = DF.trazer_colunas(df, lista_colunas)\n",
    "display(contatos)"
   ]
  },
  {
   "cell_type": "markdown",
   "metadata": {},
   "source": [
    "# Removendo duplicados"
   ]
  },
  {
   "cell_type": "code",
   "execution_count": null,
   "metadata": {},
   "outputs": [],
   "source": [
    "df = pd.read_excel(r\"C:\\Users\\david\\Desktop\\ProjetosdeCienciasdeDados\\Dados\\arquivos_excel\\Produto.xlsx\")\n",
    "df.head(3)"
   ]
  },
  {
   "cell_type": "code",
   "execution_count": null,
   "metadata": {},
   "outputs": [],
   "source": [
    "# Listando os duplicados\n",
    "duplicados = df[df.duplicated()]\n",
    "duplicados"
   ]
  },
  {
   "cell_type": "code",
   "execution_count": null,
   "metadata": {},
   "outputs": [],
   "source": [
    "# Removendo duplicados\n",
    "df_sem_duplicados = df.drop_duplicates()\n",
    "df=df_sem_duplicados"
   ]
  },
  {
   "cell_type": "markdown",
   "metadata": {},
   "source": [
    "Por critério (coluna)"
   ]
  },
  {
   "cell_type": "code",
   "execution_count": null,
   "metadata": {},
   "outputs": [],
   "source": [
    "# Listando os duplicados por id\n",
    "duplicadosID = df[df.duplicated(subset=['ID'])]\n",
    "duplicadosID"
   ]
  },
  {
   "cell_type": "code",
   "execution_count": null,
   "metadata": {},
   "outputs": [],
   "source": [
    "# Removendo duplicados\n",
    "df_sem_duplicados = df.drop_duplicates(subset=['ID'])\n",
    "df=df_sem_duplicados"
   ]
  },
  {
   "cell_type": "markdown",
   "metadata": {},
   "source": [
    "#### Pode ser removido com a linha abaixo "
   ]
  },
  {
   "cell_type": "code",
   "execution_count": null,
   "metadata": {},
   "outputs": [],
   "source": [
    "DF.remover_duplicadas(df)"
   ]
  },
  {
   "cell_type": "markdown",
   "metadata": {},
   "source": [
    "# Renomear colunas - Classificar por ordem"
   ]
  },
  {
   "cell_type": "code",
   "execution_count": null,
   "metadata": {},
   "outputs": [],
   "source": [
    "renomear = {'ID':'Código', 'Name':'Produto', 'Price':'Preço', 'Id_Category':'Código da categoria'}\n",
    "dados = pd.read_excel(r\"C:\\Users\\david\\Desktop\\ProjetosdeCienciasdeDados\\Dados\\arquivos_excel\\Produto.xlsx\").rename(columns=renomear)\n",
    "dados.head(10)"
   ]
  },
  {
   "cell_type": "markdown",
   "metadata": {},
   "source": [
    "Ordena uma coluna"
   ]
  },
  {
   "cell_type": "code",
   "execution_count": null,
   "metadata": {},
   "outputs": [],
   "source": [
    "# parametros - nome da coluna e ordenação 'c' ordem crescente 'd' decrescente\n",
    "coluna = 'Price'\n",
    "ordenacao = 'c'\n",
    "DF.ordenar_coluna(dados,coluna,ordenacao)"
   ]
  },
  {
   "cell_type": "markdown",
   "metadata": {},
   "source": [
    "Renomeia as colunas"
   ]
  },
  {
   "cell_type": "code",
   "execution_count": null,
   "metadata": {},
   "outputs": [],
   "source": [
    "# Criando um dicionario com as colunas antigas como chave e nova como valor\n",
    "renomear = {'ID':'Código', 'Name':'Produto', 'Price':'Preço', 'Id_Category':'Código da categoria'}\n",
    "dados = dados.rename(columns=renomear)\n",
    "dados\n"
   ]
  },
  {
   "cell_type": "markdown",
   "metadata": {},
   "source": [
    "# Conexão com Sistema gerenciador de banco de dados"
   ]
  },
  {
   "cell_type": "code",
   "execution_count": 2,
   "metadata": {},
   "outputs": [],
   "source": [
    "#!pip install pyodbc\n",
    "import pyodbc\n",
    "import pandas as pd"
   ]
  },
  {
   "cell_type": "code",
   "execution_count": 82,
   "metadata": {},
   "outputs": [],
   "source": [
    "# Variaveis para a conexão\n",
    "driver_ODBC = 'ODBC Driver 17 for SQL Server'\n",
    "nome_servidor = 'DAVIDFRANCISCO\\SQLEXPRESS'\n",
    "nome_BD = 'AulaPython'\n",
    "usuario = 'dsds'\n",
    "senha = '1234'"
   ]
  },
  {
   "cell_type": "code",
   "execution_count": 83,
   "metadata": {},
   "outputs": [],
   "source": [
    "# conexão do banco de dados SQL SERVER sem senha\n",
    "conexaoDB = pyodbc.connect(f'DRIVER={driver_ODBC};'\n",
    "                        f'SERVER={nome_servidor};'\n",
    "                        f'DATABASE={nome_BD};'\n",
    "                        'Trusted_Connection=yes;')\n",
    "\n",
    "cursor = conexaoDB.cursor()   # criando cursor de comando"
   ]
  },
  {
   "cell_type": "code",
   "execution_count": null,
   "metadata": {},
   "outputs": [],
   "source": [
    "#usando senha\n",
    "'''\n",
    "conexaoDB = pyodbc.connect(f'DRIVER={driver_ODBC};'\n",
    "                        f'SERVER={nome_servidor};'\n",
    "                        f'DATABASE={nome_BD};'\n",
    "                        f'usuario= {usuario};'\n",
    "                        f'senha={senha};'  \n",
    "                        'Trusted_Connection=yes;')\n",
    "\n",
    "cursor = conexaoDB.cursor()   \n",
    "'''"
   ]
  },
  {
   "cell_type": "markdown",
   "metadata": {},
   "source": [
    "# Buscando uma base em excel"
   ]
  },
  {
   "cell_type": "code",
   "execution_count": 3,
   "metadata": {},
   "outputs": [
    {
     "data": {
      "text/html": [
       "<div>\n",
       "<style scoped>\n",
       "    .dataframe tbody tr th:only-of-type {\n",
       "        vertical-align: middle;\n",
       "    }\n",
       "\n",
       "    .dataframe tbody tr th {\n",
       "        vertical-align: top;\n",
       "    }\n",
       "\n",
       "    .dataframe thead th {\n",
       "        text-align: right;\n",
       "    }\n",
       "</style>\n",
       "<table border=\"1\" class=\"dataframe\">\n",
       "  <thead>\n",
       "    <tr style=\"text-align: right;\">\n",
       "      <th></th>\n",
       "      <th>ID</th>\n",
       "      <th>Name</th>\n",
       "      <th>Price</th>\n",
       "      <th>Id_Category</th>\n",
       "    </tr>\n",
       "  </thead>\n",
       "  <tbody>\n",
       "    <tr>\n",
       "      <th>0</th>\n",
       "      <td>0</td>\n",
       "      <td>Sapato vermelho</td>\n",
       "      <td>96</td>\n",
       "      <td>0</td>\n",
       "    </tr>\n",
       "    <tr>\n",
       "      <th>1</th>\n",
       "      <td>1</td>\n",
       "      <td>Bolsa mais que Velha</td>\n",
       "      <td>8000</td>\n",
       "      <td>0</td>\n",
       "    </tr>\n",
       "    <tr>\n",
       "      <th>2</th>\n",
       "      <td>2</td>\n",
       "      <td>Calça</td>\n",
       "      <td>75</td>\n",
       "      <td>0</td>\n",
       "    </tr>\n",
       "  </tbody>\n",
       "</table>\n",
       "</div>"
      ],
      "text/plain": [
       "   ID                  Name  Price  Id_Category\n",
       "0   0       Sapato vermelho     96            0\n",
       "1   1  Bolsa mais que Velha   8000            0\n",
       "2   2                 Calça     75            0"
      ]
     },
     "execution_count": 3,
     "metadata": {},
     "output_type": "execute_result"
    }
   ],
   "source": [
    "df = pd.read_excel(r\"C:\\Users\\david\\Desktop\\ProjetosdeCienciasdeDados\\Dados\\arquivos_excel\\Produto.xlsx\")\n",
    "df.head(3)"
   ]
  },
  {
   "cell_type": "markdown",
   "metadata": {},
   "source": [
    "# Tratamento da base para padronizar e inserir no banco de dados"
   ]
  },
  {
   "cell_type": "code",
   "execution_count": 4,
   "metadata": {},
   "outputs": [
    {
     "data": {
      "text/html": [
       "<div>\n",
       "<style scoped>\n",
       "    .dataframe tbody tr th:only-of-type {\n",
       "        vertical-align: middle;\n",
       "    }\n",
       "\n",
       "    .dataframe tbody tr th {\n",
       "        vertical-align: top;\n",
       "    }\n",
       "\n",
       "    .dataframe thead th {\n",
       "        text-align: right;\n",
       "    }\n",
       "</style>\n",
       "<table border=\"1\" class=\"dataframe\">\n",
       "  <thead>\n",
       "    <tr style=\"text-align: right;\">\n",
       "      <th></th>\n",
       "      <th>#</th>\n",
       "      <th>% null</th>\n",
       "      <th>type</th>\n",
       "    </tr>\n",
       "  </thead>\n",
       "  <tbody>\n",
       "    <tr>\n",
       "      <th>ID</th>\n",
       "      <td>0</td>\n",
       "      <td>0.0</td>\n",
       "      <td>int64</td>\n",
       "    </tr>\n",
       "    <tr>\n",
       "      <th>Name</th>\n",
       "      <td>0</td>\n",
       "      <td>0.0</td>\n",
       "      <td>object</td>\n",
       "    </tr>\n",
       "    <tr>\n",
       "      <th>Price</th>\n",
       "      <td>0</td>\n",
       "      <td>0.0</td>\n",
       "      <td>int64</td>\n",
       "    </tr>\n",
       "    <tr>\n",
       "      <th>Id_Category</th>\n",
       "      <td>0</td>\n",
       "      <td>0.0</td>\n",
       "      <td>int64</td>\n",
       "    </tr>\n",
       "  </tbody>\n",
       "</table>\n",
       "</div>"
      ],
      "text/plain": [
       "             #  % null    type\n",
       "ID           0     0.0   int64\n",
       "Name         0     0.0  object\n",
       "Price        0     0.0   int64\n",
       "Id_Category  0     0.0   int64"
      ]
     },
     "execution_count": 4,
     "metadata": {},
     "output_type": "execute_result"
    }
   ],
   "source": [
    "DF.show_null(df)"
   ]
  },
  {
   "cell_type": "code",
   "execution_count": 5,
   "metadata": {},
   "outputs": [],
   "source": [
    "# Trata dados nulos\n",
    "lista_prenchimento = ['Não cadastrado','Email não cadastrado','Sem informações',0,'Estado não cadastrado']\n",
    "var_NaN = DF.show_null(df)\n",
    "df = DF.tratar_colunas_NAN(df,var_NaN,lista_prenchimento)"
   ]
  },
  {
   "cell_type": "code",
   "execution_count": 6,
   "metadata": {},
   "outputs": [],
   "source": [
    "# converte para os tres tipos (float, str, int) pata datetime preencha o tipo como 1\n",
    "tipo = float\n",
    "coluna = 'Price'\n",
    "DF.converter_tipo(df,coluna,tipo)"
   ]
  },
  {
   "cell_type": "code",
   "execution_count": 10,
   "metadata": {},
   "outputs": [
    {
     "data": {
      "text/html": [
       "<div>\n",
       "<style scoped>\n",
       "    .dataframe tbody tr th:only-of-type {\n",
       "        vertical-align: middle;\n",
       "    }\n",
       "\n",
       "    .dataframe tbody tr th {\n",
       "        vertical-align: top;\n",
       "    }\n",
       "\n",
       "    .dataframe thead th {\n",
       "        text-align: right;\n",
       "    }\n",
       "</style>\n",
       "<table border=\"1\" class=\"dataframe\">\n",
       "  <thead>\n",
       "    <tr style=\"text-align: right;\">\n",
       "      <th></th>\n",
       "      <th>ID</th>\n",
       "      <th>Name</th>\n",
       "      <th>Price</th>\n",
       "      <th>Id_Category</th>\n",
       "    </tr>\n",
       "  </thead>\n",
       "  <tbody>\n",
       "  </tbody>\n",
       "</table>\n",
       "</div>"
      ],
      "text/plain": [
       "Empty DataFrame\n",
       "Columns: [ID, Name, Price, Id_Category]\n",
       "Index: []"
      ]
     },
     "execution_count": 10,
     "metadata": {},
     "output_type": "execute_result"
    }
   ],
   "source": [
    "# Listando os duplicados\n",
    "duplicados = df[df.duplicated()]\n",
    "duplicados"
   ]
  },
  {
   "cell_type": "code",
   "execution_count": 9,
   "metadata": {},
   "outputs": [
    {
     "data": {
      "text/html": [
       "<div>\n",
       "<style scoped>\n",
       "    .dataframe tbody tr th:only-of-type {\n",
       "        vertical-align: middle;\n",
       "    }\n",
       "\n",
       "    .dataframe tbody tr th {\n",
       "        vertical-align: top;\n",
       "    }\n",
       "\n",
       "    .dataframe thead th {\n",
       "        text-align: right;\n",
       "    }\n",
       "</style>\n",
       "<table border=\"1\" class=\"dataframe\">\n",
       "  <thead>\n",
       "    <tr style=\"text-align: right;\">\n",
       "      <th></th>\n",
       "      <th>ID</th>\n",
       "      <th>Name</th>\n",
       "      <th>Price</th>\n",
       "      <th>Id_Category</th>\n",
       "    </tr>\n",
       "  </thead>\n",
       "  <tbody>\n",
       "  </tbody>\n",
       "</table>\n",
       "</div>"
      ],
      "text/plain": [
       "Empty DataFrame\n",
       "Columns: [ID, Name, Price, Id_Category]\n",
       "Index: []"
      ]
     },
     "execution_count": 9,
     "metadata": {},
     "output_type": "execute_result"
    }
   ],
   "source": [
    "DF.remover_duplicadas(df)"
   ]
  },
  {
   "cell_type": "code",
   "execution_count": 13,
   "metadata": {},
   "outputs": [
    {
     "data": {
      "text/html": [
       "<div>\n",
       "<style scoped>\n",
       "    .dataframe tbody tr th:only-of-type {\n",
       "        vertical-align: middle;\n",
       "    }\n",
       "\n",
       "    .dataframe tbody tr th {\n",
       "        vertical-align: top;\n",
       "    }\n",
       "\n",
       "    .dataframe thead th {\n",
       "        text-align: right;\n",
       "    }\n",
       "</style>\n",
       "<table border=\"1\" class=\"dataframe\">\n",
       "  <thead>\n",
       "    <tr style=\"text-align: right;\">\n",
       "      <th></th>\n",
       "      <th>ID</th>\n",
       "      <th>Name</th>\n",
       "      <th>Price</th>\n",
       "      <th>Id_Category</th>\n",
       "    </tr>\n",
       "  </thead>\n",
       "  <tbody>\n",
       "  </tbody>\n",
       "</table>\n",
       "</div>"
      ],
      "text/plain": [
       "Empty DataFrame\n",
       "Columns: [ID, Name, Price, Id_Category]\n",
       "Index: []"
      ]
     },
     "execution_count": 13,
     "metadata": {},
     "output_type": "execute_result"
    }
   ],
   "source": [
    "duplicadosID = df[df.duplicated(subset=['ID'])]\n",
    "duplicadosID"
   ]
  },
  {
   "cell_type": "code",
   "execution_count": 12,
   "metadata": {},
   "outputs": [],
   "source": [
    "df = df.drop_duplicates(subset=['ID'])"
   ]
  },
  {
   "cell_type": "markdown",
   "metadata": {},
   "source": [
    "conferindo os dados"
   ]
  },
  {
   "cell_type": "code",
   "execution_count": 26,
   "metadata": {},
   "outputs": [
    {
     "data": {
      "text/html": [
       "<div>\n",
       "<style scoped>\n",
       "    .dataframe tbody tr th:only-of-type {\n",
       "        vertical-align: middle;\n",
       "    }\n",
       "\n",
       "    .dataframe tbody tr th {\n",
       "        vertical-align: top;\n",
       "    }\n",
       "\n",
       "    .dataframe thead th {\n",
       "        text-align: right;\n",
       "    }\n",
       "</style>\n",
       "<table border=\"1\" class=\"dataframe\">\n",
       "  <thead>\n",
       "    <tr style=\"text-align: right;\">\n",
       "      <th></th>\n",
       "      <th>ID</th>\n",
       "      <th>Name</th>\n",
       "      <th>Price</th>\n",
       "      <th>Id_Category</th>\n",
       "    </tr>\n",
       "  </thead>\n",
       "  <tbody>\n",
       "    <tr>\n",
       "      <th>0</th>\n",
       "      <td>0</td>\n",
       "      <td>Sapato vermelho</td>\n",
       "      <td>96.0</td>\n",
       "      <td>0</td>\n",
       "    </tr>\n",
       "    <tr>\n",
       "      <th>1</th>\n",
       "      <td>1</td>\n",
       "      <td>Bolsa mais que Velha</td>\n",
       "      <td>8000.0</td>\n",
       "      <td>0</td>\n",
       "    </tr>\n",
       "    <tr>\n",
       "      <th>2</th>\n",
       "      <td>2</td>\n",
       "      <td>Calça</td>\n",
       "      <td>75.0</td>\n",
       "      <td>0</td>\n",
       "    </tr>\n",
       "    <tr>\n",
       "      <th>3</th>\n",
       "      <td>3</td>\n",
       "      <td>Camisa apertadinha</td>\n",
       "      <td>170.0</td>\n",
       "      <td>0</td>\n",
       "    </tr>\n",
       "    <tr>\n",
       "      <th>4</th>\n",
       "      <td>4</td>\n",
       "      <td>Vestido Super curto</td>\n",
       "      <td>57.0</td>\n",
       "      <td>0</td>\n",
       "    </tr>\n",
       "    <tr>\n",
       "      <th>5</th>\n",
       "      <td>5</td>\n",
       "      <td>Perfume</td>\n",
       "      <td>29.0</td>\n",
       "      <td>1</td>\n",
       "    </tr>\n",
       "    <tr>\n",
       "      <th>6</th>\n",
       "      <td>6</td>\n",
       "      <td>Creme de Barbear</td>\n",
       "      <td>15.0</td>\n",
       "      <td>1</td>\n",
       "    </tr>\n",
       "    <tr>\n",
       "      <th>7</th>\n",
       "      <td>7</td>\n",
       "      <td>Hidratante caro</td>\n",
       "      <td>800.0</td>\n",
       "      <td>1</td>\n",
       "    </tr>\n",
       "    <tr>\n",
       "      <th>8</th>\n",
       "      <td>8</td>\n",
       "      <td>Shampoo</td>\n",
       "      <td>15.0</td>\n",
       "      <td>1</td>\n",
       "    </tr>\n",
       "    <tr>\n",
       "      <th>10</th>\n",
       "      <td>9</td>\n",
       "      <td>Protetor Solar</td>\n",
       "      <td>11.0</td>\n",
       "      <td>1</td>\n",
       "    </tr>\n",
       "    <tr>\n",
       "      <th>11</th>\n",
       "      <td>10</td>\n",
       "      <td>Geladeira</td>\n",
       "      <td>1952.0</td>\n",
       "      <td>2</td>\n",
       "    </tr>\n",
       "    <tr>\n",
       "      <th>12</th>\n",
       "      <td>11</td>\n",
       "      <td>Fogão</td>\n",
       "      <td>1373.0</td>\n",
       "      <td>2</td>\n",
       "    </tr>\n",
       "    <tr>\n",
       "      <th>13</th>\n",
       "      <td>12</td>\n",
       "      <td>TV</td>\n",
       "      <td>1992.0</td>\n",
       "      <td>2</td>\n",
       "    </tr>\n",
       "    <tr>\n",
       "      <th>14</th>\n",
       "      <td>13</td>\n",
       "      <td>Máquina de Lavar</td>\n",
       "      <td>1826.0</td>\n",
       "      <td>2</td>\n",
       "    </tr>\n",
       "    <tr>\n",
       "      <th>15</th>\n",
       "      <td>14</td>\n",
       "      <td>Máquina de Secar</td>\n",
       "      <td>1774.0</td>\n",
       "      <td>2</td>\n",
       "    </tr>\n",
       "    <tr>\n",
       "      <th>16</th>\n",
       "      <td>15</td>\n",
       "      <td>O Romance Exagerado</td>\n",
       "      <td>46.0</td>\n",
       "      <td>3</td>\n",
       "    </tr>\n",
       "    <tr>\n",
       "      <th>17</th>\n",
       "      <td>16</td>\n",
       "      <td>Suspense Demais</td>\n",
       "      <td>42.0</td>\n",
       "      <td>3</td>\n",
       "    </tr>\n",
       "    <tr>\n",
       "      <th>18</th>\n",
       "      <td>17</td>\n",
       "      <td>Terror Aterrorizante</td>\n",
       "      <td>45.0</td>\n",
       "      <td>3</td>\n",
       "    </tr>\n",
       "    <tr>\n",
       "      <th>19</th>\n",
       "      <td>18</td>\n",
       "      <td>A Comédia Engraçada</td>\n",
       "      <td>20.0</td>\n",
       "      <td>3</td>\n",
       "    </tr>\n",
       "    <tr>\n",
       "      <th>20</th>\n",
       "      <td>19</td>\n",
       "      <td>A História de SQL</td>\n",
       "      <td>23.0</td>\n",
       "      <td>3</td>\n",
       "    </tr>\n",
       "    <tr>\n",
       "      <th>21</th>\n",
       "      <td>20</td>\n",
       "      <td>Ai-Fone</td>\n",
       "      <td>1720.0</td>\n",
       "      <td>4</td>\n",
       "    </tr>\n",
       "    <tr>\n",
       "      <th>23</th>\n",
       "      <td>21</td>\n",
       "      <td>Galáxia R10</td>\n",
       "      <td>2007.0</td>\n",
       "      <td>4</td>\n",
       "    </tr>\n",
       "    <tr>\n",
       "      <th>24</th>\n",
       "      <td>22</td>\n",
       "      <td>Chiai-homi</td>\n",
       "      <td>1152.0</td>\n",
       "      <td>4</td>\n",
       "    </tr>\n",
       "    <tr>\n",
       "      <th>25</th>\n",
       "      <td>23</td>\n",
       "      <td>Ruaei</td>\n",
       "      <td>2795.0</td>\n",
       "      <td>4</td>\n",
       "    </tr>\n",
       "    <tr>\n",
       "      <th>26</th>\n",
       "      <td>24</td>\n",
       "      <td>Nóquia</td>\n",
       "      <td>2663.0</td>\n",
       "      <td>4</td>\n",
       "    </tr>\n",
       "    <tr>\n",
       "      <th>27</th>\n",
       "      <td>25</td>\n",
       "      <td>Mouse</td>\n",
       "      <td>144.0</td>\n",
       "      <td>5</td>\n",
       "    </tr>\n",
       "    <tr>\n",
       "      <th>28</th>\n",
       "      <td>26</td>\n",
       "      <td>Teclado</td>\n",
       "      <td>53.0</td>\n",
       "      <td>5</td>\n",
       "    </tr>\n",
       "    <tr>\n",
       "      <th>29</th>\n",
       "      <td>27</td>\n",
       "      <td>Pen-Drive</td>\n",
       "      <td>136.0</td>\n",
       "      <td>5</td>\n",
       "    </tr>\n",
       "    <tr>\n",
       "      <th>30</th>\n",
       "      <td>28</td>\n",
       "      <td>Impressora</td>\n",
       "      <td>186.0</td>\n",
       "      <td>5</td>\n",
       "    </tr>\n",
       "    <tr>\n",
       "      <th>31</th>\n",
       "      <td>29</td>\n",
       "      <td>HD Externo</td>\n",
       "      <td>110.0</td>\n",
       "      <td>5</td>\n",
       "    </tr>\n",
       "    <tr>\n",
       "      <th>32</th>\n",
       "      <td>30</td>\n",
       "      <td>Poltrona</td>\n",
       "      <td>110.0</td>\n",
       "      <td>6</td>\n",
       "    </tr>\n",
       "    <tr>\n",
       "      <th>33</th>\n",
       "      <td>31</td>\n",
       "      <td>Almofada</td>\n",
       "      <td>170.0</td>\n",
       "      <td>6</td>\n",
       "    </tr>\n",
       "    <tr>\n",
       "      <th>34</th>\n",
       "      <td>32</td>\n",
       "      <td>Cadeira</td>\n",
       "      <td>164.0</td>\n",
       "      <td>6</td>\n",
       "    </tr>\n",
       "    <tr>\n",
       "      <th>35</th>\n",
       "      <td>33</td>\n",
       "      <td>Sofá</td>\n",
       "      <td>111.0</td>\n",
       "      <td>6</td>\n",
       "    </tr>\n",
       "    <tr>\n",
       "      <th>36</th>\n",
       "      <td>34</td>\n",
       "      <td>Mesa</td>\n",
       "      <td>143.0</td>\n",
       "      <td>6</td>\n",
       "    </tr>\n",
       "    <tr>\n",
       "      <th>37</th>\n",
       "      <td>35</td>\n",
       "      <td>Video-Game</td>\n",
       "      <td>602.0</td>\n",
       "      <td>7</td>\n",
       "    </tr>\n",
       "    <tr>\n",
       "      <th>39</th>\n",
       "      <td>36</td>\n",
       "      <td>Máquina Fotográfica</td>\n",
       "      <td>377.0</td>\n",
       "      <td>7</td>\n",
       "    </tr>\n",
       "    <tr>\n",
       "      <th>40</th>\n",
       "      <td>37</td>\n",
       "      <td>Notebook</td>\n",
       "      <td>493.0</td>\n",
       "      <td>7</td>\n",
       "    </tr>\n",
       "    <tr>\n",
       "      <th>41</th>\n",
       "      <td>38</td>\n",
       "      <td>PC</td>\n",
       "      <td>385.0</td>\n",
       "      <td>7</td>\n",
       "    </tr>\n",
       "    <tr>\n",
       "      <th>42</th>\n",
       "      <td>39</td>\n",
       "      <td>Secador de Cabelo</td>\n",
       "      <td>580.0</td>\n",
       "      <td>7</td>\n",
       "    </tr>\n",
       "    <tr>\n",
       "      <th>43</th>\n",
       "      <td>40</td>\n",
       "      <td>Chuteira</td>\n",
       "      <td>128.0</td>\n",
       "      <td>8</td>\n",
       "    </tr>\n",
       "    <tr>\n",
       "      <th>44</th>\n",
       "      <td>41</td>\n",
       "      <td>Tornozeleira</td>\n",
       "      <td>61.0</td>\n",
       "      <td>8</td>\n",
       "    </tr>\n",
       "    <tr>\n",
       "      <th>45</th>\n",
       "      <td>42</td>\n",
       "      <td>Raquete</td>\n",
       "      <td>97.0</td>\n",
       "      <td>8</td>\n",
       "    </tr>\n",
       "    <tr>\n",
       "      <th>46</th>\n",
       "      <td>43</td>\n",
       "      <td>Bola</td>\n",
       "      <td>103.0</td>\n",
       "      <td>8</td>\n",
       "    </tr>\n",
       "    <tr>\n",
       "      <th>47</th>\n",
       "      <td>44</td>\n",
       "      <td>Pebolim</td>\n",
       "      <td>82.0</td>\n",
       "      <td>8</td>\n",
       "    </tr>\n",
       "    <tr>\n",
       "      <th>48</th>\n",
       "      <td>45</td>\n",
       "      <td>Futebol 2020</td>\n",
       "      <td>36.0</td>\n",
       "      <td>9</td>\n",
       "    </tr>\n",
       "    <tr>\n",
       "      <th>49</th>\n",
       "      <td>46</td>\n",
       "      <td>Iôiô</td>\n",
       "      <td>16.0</td>\n",
       "      <td>9</td>\n",
       "    </tr>\n",
       "    <tr>\n",
       "      <th>50</th>\n",
       "      <td>47</td>\n",
       "      <td>Peão</td>\n",
       "      <td>32.0</td>\n",
       "      <td>9</td>\n",
       "    </tr>\n",
       "    <tr>\n",
       "      <th>51</th>\n",
       "      <td>48</td>\n",
       "      <td>Bey-Blade</td>\n",
       "      <td>55.0</td>\n",
       "      <td>9</td>\n",
       "    </tr>\n",
       "    <tr>\n",
       "      <th>52</th>\n",
       "      <td>49</td>\n",
       "      <td>Casinha de Boneca</td>\n",
       "      <td>39.0</td>\n",
       "      <td>9</td>\n",
       "    </tr>\n",
       "  </tbody>\n",
       "</table>\n",
       "</div>"
      ],
      "text/plain": [
       "    ID                  Name   Price  Id_Category\n",
       "0    0       Sapato vermelho    96.0            0\n",
       "1    1  Bolsa mais que Velha  8000.0            0\n",
       "2    2                 Calça    75.0            0\n",
       "3    3    Camisa apertadinha   170.0            0\n",
       "4    4   Vestido Super curto    57.0            0\n",
       "5    5               Perfume    29.0            1\n",
       "6    6      Creme de Barbear    15.0            1\n",
       "7    7       Hidratante caro   800.0            1\n",
       "8    8               Shampoo    15.0            1\n",
       "10   9        Protetor Solar    11.0            1\n",
       "11  10             Geladeira  1952.0            2\n",
       "12  11                 Fogão  1373.0            2\n",
       "13  12                    TV  1992.0            2\n",
       "14  13      Máquina de Lavar  1826.0            2\n",
       "15  14      Máquina de Secar  1774.0            2\n",
       "16  15   O Romance Exagerado    46.0            3\n",
       "17  16       Suspense Demais    42.0            3\n",
       "18  17  Terror Aterrorizante    45.0            3\n",
       "19  18   A Comédia Engraçada    20.0            3\n",
       "20  19     A História de SQL    23.0            3\n",
       "21  20               Ai-Fone  1720.0            4\n",
       "23  21           Galáxia R10  2007.0            4\n",
       "24  22            Chiai-homi  1152.0            4\n",
       "25  23                 Ruaei  2795.0            4\n",
       "26  24                Nóquia  2663.0            4\n",
       "27  25                 Mouse   144.0            5\n",
       "28  26               Teclado    53.0            5\n",
       "29  27             Pen-Drive   136.0            5\n",
       "30  28            Impressora   186.0            5\n",
       "31  29            HD Externo   110.0            5\n",
       "32  30              Poltrona   110.0            6\n",
       "33  31              Almofada   170.0            6\n",
       "34  32               Cadeira   164.0            6\n",
       "35  33                  Sofá   111.0            6\n",
       "36  34                  Mesa   143.0            6\n",
       "37  35            Video-Game   602.0            7\n",
       "39  36   Máquina Fotográfica   377.0            7\n",
       "40  37              Notebook   493.0            7\n",
       "41  38                    PC   385.0            7\n",
       "42  39     Secador de Cabelo   580.0            7\n",
       "43  40              Chuteira   128.0            8\n",
       "44  41          Tornozeleira    61.0            8\n",
       "45  42               Raquete    97.0            8\n",
       "46  43                  Bola   103.0            8\n",
       "47  44               Pebolim    82.0            8\n",
       "48  45          Futebol 2020    36.0            9\n",
       "49  46                  Iôiô    16.0            9\n",
       "50  47                  Peão    32.0            9\n",
       "51  48             Bey-Blade    55.0            9\n",
       "52  49     Casinha de Boneca    39.0            9"
      ]
     },
     "metadata": {},
     "output_type": "display_data"
    }
   ],
   "source": [
    "display(df)"
   ]
  },
  {
   "cell_type": "markdown",
   "metadata": {},
   "source": [
    "# Inserindo no banco de dados"
   ]
  },
  {
   "cell_type": "markdown",
   "metadata": {},
   "source": [
    "Variaveis necessárias para a conexão "
   ]
  },
  {
   "cell_type": "code",
   "execution_count": 15,
   "metadata": {},
   "outputs": [],
   "source": [
    "driver_ODBC = 'ODBC Driver 17 for SQL Server'\n",
    "nome_servidor = 'DAVIDFRANCISCO\\SQLEXPRESS'\n",
    "nome_BD = 'AulaPython'\n",
    "tabelaSQL = '[Produtos]'\n",
    "usuario = 'dsds'\n",
    "senha = '1234'"
   ]
  },
  {
   "cell_type": "markdown",
   "metadata": {},
   "source": [
    "Conexão e insersão de uma base tratada"
   ]
  },
  {
   "cell_type": "code",
   "execution_count": 16,
   "metadata": {},
   "outputs": [],
   "source": [
    "# conexão do banco de dados SQL SERVER sem senha\n",
    "conexaoDB = pyodbc.connect(f'DRIVER={driver_ODBC};'\n",
    "                           f'SERVER={nome_servidor};'\n",
    "                           f'DATABASE={nome_BD};'\n",
    "                           'Trusted_Connection=yes;')\n",
    "\n",
    "cursor = conexaoDB.cursor()   # criando cursor de comando\n",
    "    \n",
    "#Apaga caso haja uma tabela com esse nome\n",
    "tabelaSQL = '[Produtos]'\n",
    "str(df.columns).replace(\"'\",\"\") \n",
    "cursor.execute('truncate table '+tabelaSQL) \n",
    "for index, linha in df.iterrows():\n",
    "    cursor.execute(\"Insert into [Produtos](ID,Nome,Price,Id_Category)values(?,?,?,?)\",linha.ID,linha.Name,linha.Price,linha.Id_Category) \n",
    "     # inserir colunas e quantas colunas tiver passar quantidade de ??\n",
    "cursor.commit()   # validar dados no SQL Server\n",
    "cursor.close()    #Fechar Cursor\n",
    "conexaoDB.close() #Fechar Conexao"
   ]
  }
 ],
 "metadata": {
  "kernelspec": {
   "display_name": ".venv",
   "language": "python",
   "name": "python3"
  },
  "language_info": {
   "codemirror_mode": {
    "name": "ipython",
    "version": 3
   },
   "file_extension": ".py",
   "mimetype": "text/x-python",
   "name": "python",
   "nbconvert_exporter": "python",
   "pygments_lexer": "ipython3",
   "version": "3.9.6"
  }
 },
 "nbformat": 4,
 "nbformat_minor": 2
}
