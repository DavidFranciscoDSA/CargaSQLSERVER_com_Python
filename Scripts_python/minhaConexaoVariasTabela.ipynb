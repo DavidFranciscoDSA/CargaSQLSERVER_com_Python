{
 "cells": [
  {
   "cell_type": "markdown",
   "metadata": {},
   "source": [
    "# Conexão Várias tabelas"
   ]
  },
  {
   "cell_type": "code",
   "execution_count": 10,
   "metadata": {},
   "outputs": [],
   "source": [
    "import dafra as DF\n",
    "import pandas as pd\n",
    "import pyodbc"
   ]
  },
  {
   "cell_type": "markdown",
   "metadata": {},
   "source": [
    "#### Carrega todas as tabelas do diretorio - atenção com as extensoes"
   ]
  },
  {
   "cell_type": "code",
   "execution_count": 11,
   "metadata": {},
   "outputs": [],
   "source": [
    "diretorio = r\"C:\\Users\\david\\Desktop\\ProjetosdeCienciasdeDados\\Dados\\arquivos_excel\\meuconsolidado\\tratados/\"\n",
    "lista_arquivos = ['Categorias.xlsx','Items.xlsx','Ordens.xlsx','Produtos.xlsx','Clientes.csv']\n",
    "Categoria = pd.read_excel(diretorio+lista_arquivos[0])\n",
    "Items = pd.read_excel(diretorio+lista_arquivos[1])\n",
    "Ordens = pd.read_excel(diretorio+lista_arquivos[2])\n",
    "Produtos = pd.read_excel(diretorio+lista_arquivos[3])\n",
    "Clientes = pd.read_csv(diretorio+lista_arquivos[4], delimiter= ',')\n"
   ]
  },
  {
   "cell_type": "markdown",
   "metadata": {},
   "source": [
    "### Abre a conexão com o banco de dados"
   ]
  },
  {
   "cell_type": "code",
   "execution_count": 12,
   "metadata": {},
   "outputs": [],
   "source": [
    "# Variaveis de conexão\n",
    "driver_ODBC = 'ODBC Driver 17 for SQL Server'\n",
    "nome_servidor = 'DAVIDFRANCISCO\\SQLEXPRESS'\n",
    "nome_BD = 'AulaPython'\n",
    "#tabelaSQL = '[Clientes]'\n",
    "usuario = 'dsds'\n",
    "senha = '1234'\n",
    "\n",
    "# Conexão\n",
    "conexaoDB = pyodbc.connect(f'DRIVER={driver_ODBC};'\n",
    "                           f'SERVER={nome_servidor};'\n",
    "                           f'DATABASE={nome_BD};'\n",
    "                           'Trusted_Connection=yes;')\n",
    "\n",
    "cursor = conexaoDB.cursor()   # criando cursor de comando"
   ]
  },
  {
   "cell_type": "markdown",
   "metadata": {},
   "source": [
    "### Truncate - Limpa todas as tabelas do sistema gerenciador banco de dados"
   ]
  },
  {
   "cell_type": "code",
   "execution_count": 13,
   "metadata": {},
   "outputs": [],
   "source": [
    "cursor.execute(\n",
    "\"\"\"\n",
    "truncate table [dbo].[Categoria]\n",
    "truncate table [dbo].[Clientes]\n",
    "truncate table [dbo].[Items]\n",
    "truncate table [dbo].[Ordens]\n",
    "truncate table [dbo].[Produtos]\n",
    "\n",
    "\"\"\"\n",
    ")   #executa tarefa de  apagar dados\n",
    "cursor.commit()"
   ]
  },
  {
   "cell_type": "markdown",
   "metadata": {},
   "source": [
    "### Insert de todas as tabelas tratadas no SQL Server"
   ]
  },
  {
   "cell_type": "markdown",
   "metadata": {},
   "source": [
    "Carga produto"
   ]
  },
  {
   "cell_type": "code",
   "execution_count": 14,
   "metadata": {},
   "outputs": [],
   "source": [
    "for index, linha in Produtos.iterrows():  \n",
    "    cursor.execute(\"Insert into [Produtos](ID,Nome,Price,Id_Category)values(?,?,?,?)\",\n",
    "                   linha.ID,linha.Nome,linha.Price,linha.Id_Category) \n",
    "cursor.commit()   "
   ]
  },
  {
   "cell_type": "markdown",
   "metadata": {},
   "source": [
    "Carga Categoria"
   ]
  },
  {
   "cell_type": "code",
   "execution_count": 15,
   "metadata": {},
   "outputs": [],
   "source": [
    "for index, linha in Categoria.iterrows():  \n",
    "    cursor.execute(\"Insert into [Categoria](ID,Categoria)values(?,?)\",linha.ID,linha.Categoria) \n",
    "cursor.commit()"
   ]
  },
  {
   "cell_type": "markdown",
   "metadata": {},
   "source": [
    "Carga Items"
   ]
  },
  {
   "cell_type": "code",
   "execution_count": 16,
   "metadata": {},
   "outputs": [],
   "source": [
    "Items['total_price'] = Items['total_price'].astype(float) \n",
    "for index, linha in Items.iterrows():\n",
    "    cursor.execute(\"Insert into [Items](id,order_id,product_id,quantity,total_price)values(?,?,?,?,?)\",\n",
    "                   linha.id,linha.order_id,linha.product_id,linha.quantity,linha.total_price) \n",
    "cursor.commit()"
   ]
  },
  {
   "cell_type": "markdown",
   "metadata": {},
   "source": [
    "Carga Ordens"
   ]
  },
  {
   "cell_type": "code",
   "execution_count": 17,
   "metadata": {},
   "outputs": [],
   "source": [
    "for index, linha in Ordens.iterrows():\n",
    "    cursor.execute(\"Insert into [Ordens](id,created_at,customer_id,status)values(?,?,?,?)\",\n",
    "                   linha.id,linha.created_at,linha.customer_id,linha.status)   \n",
    "cursor.commit()  "
   ]
  },
  {
   "cell_type": "markdown",
   "metadata": {},
   "source": [
    "Carga Clientes"
   ]
  },
  {
   "cell_type": "code",
   "execution_count": 18,
   "metadata": {},
   "outputs": [],
   "source": [
    "Clientes['created_at'] = pd.to_datetime(Clientes['created_at'])\n",
    "\n",
    "for index, linha in Clientes.iterrows():   \n",
    "    linha.email = str(linha.email)  # Converter para o tipo 'str' antes da inserção\n",
    "    linha.country = str(linha.country)\n",
    "    linha.state = str(linha.state)\n",
    "    linha.street = str(linha.street)\n",
    "    linha.number = str(linha.number)\n",
    "    linha.additionals = str(linha.additionals)\n",
    "    \n",
    "    #linha.cell_phone = str(linha.cell_phone)\n",
    "    cursor.execute(\"INSERT INTO [Clientes] (id, created_at,first_name, last_name,email,cell_phone,country, state,street, number, additionals) VALUES (?,?,?,?,?,?,?,?,?,?,?)\",linha.id, linha.created_at,linha.first_name,\n",
    "                   linha.last_name,linha.email,linha.cell_phone,linha.country,linha.state,linha.street,linha.number,linha.additionals)\n",
    "cursor.commit()"
   ]
  },
  {
   "cell_type": "markdown",
   "metadata": {},
   "source": [
    "### Fechando a conexão"
   ]
  },
  {
   "cell_type": "code",
   "execution_count": 19,
   "metadata": {},
   "outputs": [],
   "source": [
    "cursor.close()    #Fechar Cursor\n",
    "conexaoDB.close() #Fechar Conexao"
   ]
  }
 ],
 "metadata": {
  "kernelspec": {
   "display_name": ".venv",
   "language": "python",
   "name": "python3"
  },
  "language_info": {
   "codemirror_mode": {
    "name": "ipython",
    "version": 3
   },
   "file_extension": ".py",
   "mimetype": "text/x-python",
   "name": "python",
   "nbconvert_exporter": "python",
   "pygments_lexer": "ipython3",
   "version": "3.11.3"
  }
 },
 "nbformat": 4,
 "nbformat_minor": 2
}
